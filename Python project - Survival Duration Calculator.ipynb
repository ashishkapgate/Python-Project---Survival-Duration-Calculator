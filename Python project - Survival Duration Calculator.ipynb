{
 "cells": [
  {
   "cell_type": "code",
   "execution_count": null,
   "id": "4ed43390-445c-4e5c-b735-3a29cde94aa4",
   "metadata": {},
   "outputs": [],
   "source": [
    "# We need to calculate the age of the survival\n",
    "# for that need create a function Age_calculator\n",
    "def survival_duration(age):\n",
    "    months = age*12\n",
    "    weeks = age*52 # Aproximation\n",
    "    days = age*365 # Avoid Leap Year\n",
    "    hours = days*24\n",
    "    minutes = hours*60\n",
    "    seconds = minutes*60\n",
    "\n",
    "    return {\n",
    "       \"Months\": months,\n",
    "      \"Weeks\": weeks,\n",
    "      \"Days\": days,\n",
    "      \"Hours\": hours,\n",
    "      \"Minutes\": minutes,\n",
    "      \"Seconds\": seconds,\n",
    "  }\n",
    "\n",
    "# Now need to create another function to take input and print the nessessory output\n",
    "def main():\n",
    "    try: \n",
    "        age = int(input(\"Enter the age of survival: \"))\n",
    "        if age < 0:\n",
    "            print(\"Age cannot be negative\")\n",
    "            return\n",
    "\n",
    "        duration = survival_duration(age)\n",
    "        print(\"\\nDuration of life: \")\n",
    "\n",
    "        for unit, value in duration.items():\n",
    "            print(f\"{unit}:{value}\")\n",
    "\n",
    "    except ValueError:\n",
    "         print(\"Please enter the valid input\")\n",
    "\n",
    "\n",
    "        \n",
    "        \n",
    "if __name__ == \"__main__\":\n",
    "    main()\n"
   ]
  },
  {
   "cell_type": "code",
   "execution_count": null,
   "id": "ac5ae18b-2d59-4b2d-adbd-486c2298dc59",
   "metadata": {},
   "outputs": [],
   "source": []
  },
  {
   "cell_type": "code",
   "execution_count": null,
   "id": "6219900f-9d06-4c3d-ad99-4480f6f0da5d",
   "metadata": {},
   "outputs": [],
   "source": []
  },
  {
   "cell_type": "code",
   "execution_count": null,
   "id": "714fc391-aaca-4bdc-a18f-de1a10910336",
   "metadata": {},
   "outputs": [],
   "source": []
  },
  {
   "cell_type": "code",
   "execution_count": null,
   "id": "839991df-9a70-480c-b0e1-b93e817cc802",
   "metadata": {},
   "outputs": [],
   "source": []
  }
 ],
 "metadata": {
  "kernelspec": {
   "display_name": "Python 3 (ipykernel)",
   "language": "python",
   "name": "python3"
  },
  "language_info": {
   "codemirror_mode": {
    "name": "ipython",
    "version": 3
   },
   "file_extension": ".py",
   "mimetype": "text/x-python",
   "name": "python",
   "nbconvert_exporter": "python",
   "pygments_lexer": "ipython3",
   "version": "3.12.4"
  }
 },
 "nbformat": 4,
 "nbformat_minor": 5
}
